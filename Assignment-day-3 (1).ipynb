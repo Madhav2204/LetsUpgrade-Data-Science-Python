{
 "cells": [
  {
   "cell_type": "markdown",
   "metadata": {},
   "source": [
    "# assignment day 3 "
   ]
  },
  {
   "cell_type": "raw",
   "metadata": {},
   "source": [
    "Questions 1:\n",
    "Create a numpy array starting from 2 till 50 with a stepsize of 3."
   ]
  },
  {
   "cell_type": "code",
   "execution_count": 2,
   "metadata": {},
   "outputs": [
    {
     "name": "stdout",
     "output_type": "stream",
     "text": [
      "[[ 2  5  8 11]\n",
      " [14 17 20 23]\n",
      " [26 29 32 35]\n",
      " [38 41 44 47]]\n"
     ]
    }
   ],
   "source": [
    "import numpy as np \n",
    "arr = np.arange(2,50,3).reshape(4,4)\n",
    "print(arr)"
   ]
  },
  {
   "cell_type": "raw",
   "metadata": {},
   "source": [
    "Questions 2:\n",
    "Accept two lists of 5 elements each from the user.\n",
    "Convert them to numpy arrays. Concatenate these arrays and print it. Also sort these arrays and print it."
   ]
  },
  {
   "cell_type": "code",
   "execution_count": 3,
   "metadata": {},
   "outputs": [
    {
     "name": "stdout",
     "output_type": "stream",
     "text": [
      "Enter 5 element in 1st list\n",
      "23\n",
      "44\n",
      "65\n",
      "88\n",
      "66\n",
      "Enter 5 element in 2st list\n",
      "23\n",
      "54\n",
      "77\n",
      "12\n",
      "1\n",
      "Array of list 1\n",
      "[23 44 65 88 66]\n",
      "Array of list 2\n",
      "[23 54 77 12  1]\n",
      "Concatenated array is :\n",
      "[23 44 65 88 66 23 54 77 12  1]\n",
      "sorted array is :\n",
      "[ 1 12 23 23 44 54 65 66 77 88]\n"
     ]
    }
   ],
   "source": [
    "import numpy as np\n",
    "lst1 =[]\n",
    "lst2 =[]\n",
    "print(\"Enter 5 element in 1st list\")\n",
    "for i in range(0,5):\n",
    "    value = int(input())\n",
    "    lst1.append(value)\n",
    "\n",
    "print(\"Enter 5 element in 2st list\")\n",
    "for j in range(0,5):    \n",
    "    ele = int(input())\n",
    "    lst2.append(ele)\n",
    "    \n",
    "print(\"Array of list 1\")\n",
    "arr1 = np.array(lst1)\n",
    "print(arr1)\n",
    "print(\"Array of list 2\")\n",
    "arr2 = np.array(lst2)\n",
    "print(arr2)\n",
    "\n",
    "#adding two array\n",
    "concate = np.concatenate((arr1,arr2))\n",
    "print(\"Concatenated array is :\")\n",
    "print(concate)\n",
    "#sorting array\n",
    "sort_concate = np.sort(concate)\n",
    "print(\"sorted array is :\")\n",
    "print(sort_concate)"
   ]
  },
  {
   "cell_type": "raw",
   "metadata": {},
   "source": [
    "Questions 3:\n",
    "Write a code snippet to find the dimensions of a ndarray and its size."
   ]
  },
  {
   "cell_type": "code",
   "execution_count": 4,
   "metadata": {},
   "outputs": [
    {
     "name": "stdout",
     "output_type": "stream",
     "text": [
      "[[ 3  4  5]\n",
      " [ 6  7  8]\n",
      " [ 9 10 11]\n",
      " [12  1  2]]\n",
      "Number of Rows :  4\n",
      "Number of Columns :  3\n",
      "\n",
      "Total Number of elements in  Numpy array :  12\n",
      "Shape of numpy array :  (4, 3)\n",
      "Total Number of elements in  Numpy array :  12\n"
     ]
    }
   ],
   "source": [
    "import numpy as np\n",
    "a = np.array([[3, 4, 5], [6, 7, 8],[9,10,11],[12,1,2]])\n",
    "print(a)\n",
    "\n",
    "# get number of rows in nd numpy array\n",
    "numOfRows = a.shape[0]\n",
    "print('Number of Rows : ', numOfRows)\n",
    "\n",
    "# get number of columns in nD numpy array\n",
    "numOfColumns = a.shape[1]\n",
    "print('Number of Columns : ', numOfColumns)\n",
    "\n",
    "print()\n",
    "print('Total Number of elements in  Numpy array : ', a.shape[0] * a.shape[1])\n",
    "\n",
    "print('Shape of numpy array : ', a.shape)\n",
    "print('Total Number of elements in  Numpy array : ', np.size(a))"
   ]
  },
  {
   "cell_type": "raw",
   "metadata": {},
   "source": [
    "Questions 4:\n",
    "How to convert a 1D array into a 2D array? Demonstrate with the help of a code snippet\n",
    "Hint: np.newaxis, np.expand_dims"
   ]
  },
  {
   "cell_type": "code",
   "execution_count": 5,
   "metadata": {},
   "outputs": [
    {
     "name": "stdout",
     "output_type": "stream",
     "text": [
      "shape of original vertor or 1d array  (6,)\n",
      "2d array With .newaxis and row_vector (1, 6)\n",
      "2d array With .newaxis and column-vector (6, 1)\n",
      "2d array with .expand_dims (6, 1)\n"
     ]
    }
   ],
   "source": [
    "arr = np.array([1, 2, 3, 4, 5, 6])\n",
    "print(\"shape of original vertor or 1d array \",arr.shape)\n",
    "#with row_vector\n",
    "arr2 = arr[np.newaxis, :]\n",
    "print(\"2d array With .newaxis and row_vector\", arr2.shape)\n",
    "#with column-vector\n",
    "col_vector = arr[:, np.newaxis]\n",
    "print(\"2d array With .newaxis and column-vector\",col_vector.shape)\n",
    "\n",
    "#with expand_dims\n",
    "arr3 = np.expand_dims(arr, axis=1)\n",
    "print(\"2d array with .expand_dims\",arr3.shape)"
   ]
  },
  {
   "cell_type": "raw",
   "metadata": {},
   "source": [
    "question 5 \n",
    "Consider two square numpy arrays. Stack them vertically and horizontally.\n",
    "Hint: Use vstack(), hstack()"
   ]
  },
  {
   "cell_type": "code",
   "execution_count": 8,
   "metadata": {},
   "outputs": [
    {
     "name": "stdout",
     "output_type": "stream",
     "text": [
      " horizontally stacked :  [   4   25   36   49   64   81  441  144    9    1   16   36   64   49\n",
      "  529  256 1156  484 1936]\n",
      "vertically stacked :  [   4   25   36   49   64   81  441  144    9    1   16   36   64   49\n",
      "  529  256 1156  484 1936]\n"
     ]
    }
   ],
   "source": [
    "import numpy as np\n",
    "\n",
    "my_array_1 = np.square([2,5,6,7,8,9,21,12,3,1,4])  # square of numpy array\n",
    "my_array_2 = np.square([6,8,7,23,16,34,22,44])  # square of numpy array\n",
    "\n",
    "\n",
    "print(\" horizontally stacked : \", np.hstack((my_array_1, my_array_2)))\n",
    "\n",
    "print(\"vertically stacked : \", np.hstack((my_array_1, my_array_2)))"
   ]
  },
  {
   "cell_type": "raw",
   "metadata": {},
   "source": [
    "Questions 6:\n",
    "How to get unique items and counts of unique items?"
   ]
  },
  {
   "cell_type": "code",
   "execution_count": 6,
   "metadata": {},
   "outputs": [
    {
     "name": "stdout",
     "output_type": "stream",
     "text": [
      "[[2 5]\n",
      " [4 2]\n",
      " [5 2]\n",
      " [6 1]\n",
      " [7 1]]\n"
     ]
    }
   ],
   "source": [
    "import numpy as np\n",
    "\n",
    "arr = np.array([2,5,6,4,7,5,2,2,2,4,2])\n",
    "\n",
    "unique, counts = np.unique(arr, return_counts=True)\n",
    "arr = np.asarray((unique, counts)).T\n",
    "print(arr)"
   ]
  }
 ],
 "metadata": {
  "kernelspec": {
   "display_name": "Python 3",
   "language": "python",
   "name": "python3"
  },
  "language_info": {
   "codemirror_mode": {
    "name": "ipython",
    "version": 3
   },
   "file_extension": ".py",
   "mimetype": "text/x-python",
   "name": "python",
   "nbconvert_exporter": "python",
   "pygments_lexer": "ipython3",
   "version": "3.8.3"
  }
 },
 "nbformat": 4,
 "nbformat_minor": 4
}
