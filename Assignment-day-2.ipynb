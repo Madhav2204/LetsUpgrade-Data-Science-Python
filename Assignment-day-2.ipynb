{
 "cells": [
  {
   "cell_type": "raw",
   "metadata": {},
   "source": [
    "Questions 1:\n",
    "Create an empty list. Accept 10 numbers from the user and append to it the list if it is an even number"
   ]
  },
  {
   "cell_type": "code",
   "execution_count": 6,
   "metadata": {},
   "outputs": [
    {
     "name": "stdout",
     "output_type": "stream",
     "text": [
      "Enter a number to append: 23\n",
      "Enter a number to append: 43\n",
      "Enter a number to append: 56\n",
      "Enter a number to append: 34\n",
      "Enter a number to append: 76\n",
      "Enter a number to append: 13\n",
      "Enter a number to append: 86\n",
      "Enter a number to append: 00\n",
      "Enter a number to append: 87\n",
      "Enter a number to append: 67\n",
      "[23, 43, 56, 34, 76, 13, 86, 0, 87, 67]\n"
     ]
    }
   ],
   "source": [
    "lst = []\n",
    "i = 0 \n",
    "\n",
    "while i<10:\n",
    "    ele = int(input(\"Enter a number to append: \"))\n",
    "    lst.append(ele)\n",
    "    i =i+1\n",
    "\n",
    "print(lst)"
   ]
  },
  {
   "cell_type": "raw",
   "metadata": {},
   "source": [
    "Questions 2:\n",
    "Create a notebook on LIST COMPREHENSION. This exercise is to put you in a Self learning mode"
   ]
  },
  {
   "cell_type": "code",
   "execution_count": 7,
   "metadata": {},
   "outputs": [
    {
     "name": "stdout",
     "output_type": "stream",
     "text": [
      "['Shoham']\n"
     ]
    }
   ],
   "source": [
    "customers = [(\"Madhav\", 240000),\n",
    "             (\"Mayank\", 120000),\n",
    "             (\"Shoham\", 1100000),\n",
    "             (\"Bhaiyyu\", 44000)]\n",
    "whales = []\n",
    "for customer, income in customers:\n",
    "    if income>1000000:\n",
    "        whales.append(customer)\n",
    "print(whales)"
   ]
  },
  {
   "cell_type": "code",
   "execution_count": 8,
   "metadata": {},
   "outputs": [
    {
     "name": "stdout",
     "output_type": "stream",
     "text": [
      "[[0, 1, 2, 3, 4], [0, 1, 2, 3, 4], [0, 1, 2, 3, 4]]\n"
     ]
    }
   ],
   "source": [
    "lst = [[x for x in range(5)] for y in range(3)]\n",
    "print(lst)"
   ]
  },
  {
   "cell_type": "code",
   "execution_count": 9,
   "metadata": {},
   "outputs": [
    {
     "name": "stdout",
     "output_type": "stream",
     "text": [
      "[('Mayank', 'Shoham'), ('Mayank', 'Ankit'), ('Mayank', 'Madhav'), ('Shoham', 'Mayank'), ('Shoham', 'Ankit'), ('Shoham', 'Madhav'), ('Ankit', 'Mayank'), ('Ankit', 'Shoham'), ('Ankit', 'Madhav'), ('Madhav', 'Mayank'), ('Madhav', 'Shoham'), ('Madhav', 'Ankit')]\n"
     ]
    }
   ],
   "source": [
    "users = [\"Mayank\", \"Shoham\", \"Ankit\", \"Madhav\"]\n",
    "pairs = []\n",
    "for x in users:\n",
    "    for y in users:\n",
    "        if x != y:\n",
    "            pairs.append((x,y))\n",
    "print(pairs)"
   ]
  },
  {
   "cell_type": "code",
   "execution_count": 11,
   "metadata": {},
   "outputs": [
    {
     "name": "stdout",
     "output_type": "stream",
     "text": [
      "[0, 0, 2, 2, 4, 4, 6, 6, 8, 8]\n"
     ]
    }
   ],
   "source": [
    "lst = [x if x%2==0 else x-1 for x in range(10)]\n",
    "print(lst)"
   ]
  },
  {
   "cell_type": "raw",
   "metadata": {},
   "source": [
    "Questions 3:\n",
    "given a number n, you have to write a program that generates a dictionary d which\n",
    "contains (i, i*i), where i is from 1 to n (both included).\n",
    "Then you have to just print this dictionary d.\n",
    "Example:\n",
    "Input: 4\n",
    "will give output as\n",
    "{1: 1, 2: 4, 3: 9, 4: 16}"
   ]
  },
  {
   "cell_type": "code",
   "execution_count": 15,
   "metadata": {},
   "outputs": [
    {
     "name": "stdout",
     "output_type": "stream",
     "text": [
      "Input: 10\n",
      "{1: 1, 2: 4, 3: 9, 4: 16, 5: 25, 6: 36, 7: 49, 8: 64, 9: 81, 10: 100}\n"
     ]
    }
   ],
   "source": [
    "n=int(input(\"Input: \"))\n",
    "d = dict()\n",
    "\n",
    "for x in range(1,n+1):\n",
    "    d[x]=x*x\n",
    "\n",
    "print(d) "
   ]
  },
  {
   "cell_type": "raw",
   "metadata": {},
   "source": [
    "Questions 4:\n",
    "There is a robot which wants to go the charging point to charge itself.\n",
    "The robot moves in a 2-D plane from the original point (0,0). The robot can\n",
    "move toward UP, DOWN, LEFT and RIGHT with given steps.\n",
    "The trace of robot movement is shown as the following:\n",
    "UP 5\n",
    "DOWN 3\n",
    "LEFT 3\n",
    "RIGHT 2\n",
    "Then, the output of the program should be:\n",
    "2"
   ]
  },
  {
   "cell_type": "code",
   "execution_count": 44,
   "metadata": {},
   "outputs": [
    {
     "name": "stdout",
     "output_type": "stream",
     "text": [
      "number of direction  4\n",
      "UP : 8\n",
      "DOWN :4\n",
      "LEFT : 8\n",
      "RIGHT :3\n",
      "6\n"
     ]
    }
   ],
   "source": [
    "print(\"number of direction \",4)\n",
    "up = int(input(\"UP : \"))\n",
    "down = int(input(\"DOWN :\"))\n",
    "left = int(input(\"LEFT : \"))\n",
    "right = int(input(\"RIGHT :\"))\n",
    "\n",
    "x_axis = (left-right)**2\n",
    "y_axis = (down-up)**2\n",
    "sqt_xy = (x_axis + y_axis)**0.5\n",
    "distance = round(sqt_xy)\n",
    "print(distance)"
   ]
  }
 ],
 "metadata": {
  "kernelspec": {
   "display_name": "Python 3",
   "language": "python",
   "name": "python3"
  },
  "language_info": {
   "codemirror_mode": {
    "name": "ipython",
    "version": 3
   },
   "file_extension": ".py",
   "mimetype": "text/x-python",
   "name": "python",
   "nbconvert_exporter": "python",
   "pygments_lexer": "ipython3",
   "version": "3.8.3"
  }
 },
 "nbformat": 4,
 "nbformat_minor": 4
}
